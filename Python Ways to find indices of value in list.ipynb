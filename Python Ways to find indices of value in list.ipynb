{
 "cells": [
  {
   "cell_type": "markdown",
   "id": "bc407978",
   "metadata": {},
   "source": [
    "# Python | Ways to find indices of value in list"
   ]
  },
  {
   "cell_type": "raw",
   "id": "4334bc4f",
   "metadata": {},
   "source": [
    "Original list : [1, 3, 4, 3, 6, 7]\n",
    "New indices list : [1, 3]\n",
    "3 is two times\n",
    "1s=1 position\n",
    "2s=3rd position"
   ]
  },
  {
   "cell_type": "code",
   "execution_count": 3,
   "id": "25799776",
   "metadata": {},
   "outputs": [],
   "source": [
    "list =[1, 3, 4, 3, 6, 7]"
   ]
  },
  {
   "cell_type": "code",
   "execution_count": 28,
   "id": "7222982e",
   "metadata": {},
   "outputs": [],
   "source": [
    "def indiciesRepeatCount(list):\n",
    "    li=[]\n",
    "    for i , value in enumerate(list):\n",
    "        if(value==3):\n",
    "            li.append(i)\n",
    "    return li       "
   ]
  },
  {
   "cell_type": "code",
   "execution_count": 29,
   "id": "e7e02e2e",
   "metadata": {},
   "outputs": [
    {
     "data": {
      "text/plain": [
       "[1, 3]"
      ]
     },
     "execution_count": 29,
     "metadata": {},
     "output_type": "execute_result"
    }
   ],
   "source": [
    "indiciesRepeatCount(list)"
   ]
  }
 ],
 "metadata": {
  "kernelspec": {
   "display_name": "Python 3",
   "language": "python",
   "name": "python3"
  },
  "language_info": {
   "codemirror_mode": {
    "name": "ipython",
    "version": 3
   },
   "file_extension": ".py",
   "mimetype": "text/x-python",
   "name": "python",
   "nbconvert_exporter": "python",
   "pygments_lexer": "ipython3",
   "version": "3.8.8"
  }
 },
 "nbformat": 4,
 "nbformat_minor": 5
}
