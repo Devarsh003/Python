{
 "cells": [
  {
   "cell_type": "markdown",
   "id": "8c4c889f",
   "metadata": {},
   "source": [
    "# Python | Find most frequent element in a list"
   ]
  },
  {
   "cell_type": "raw",
   "id": "6fee257a",
   "metadata": {},
   "source": [
    "Input : [2, 1, 2, 2, 1, 3]\n",
    "Output : 2\n",
    "\n",
    "Input : ['Dog', 'Cat', 'Dog']\n",
    "Output : Dog"
   ]
  },
  {
   "cell_type": "code",
   "execution_count": 23,
   "id": "284fa7d8",
   "metadata": {},
   "outputs": [],
   "source": [
    "Input = [2, 1, 2, 2, 1, 3]"
   ]
  },
  {
   "cell_type": "code",
   "execution_count": 19,
   "id": "81331290",
   "metadata": {},
   "outputs": [],
   "source": [
    "def frequentElement(Input):\n",
    "    c=[]\n",
    "    for i in Input:\n",
    "        c.append(Input.count(i))\n",
    "    \n",
    "    return c"
   ]
  },
  {
   "cell_type": "code",
   "execution_count": 20,
   "id": "09daa06b",
   "metadata": {},
   "outputs": [
    {
     "data": {
      "text/plain": [
       "[3, 2, 3, 3, 2, 1]"
      ]
     },
     "execution_count": 20,
     "metadata": {},
     "output_type": "execute_result"
    }
   ],
   "source": [
    "frequentElement(Input)"
   ]
  },
  {
   "cell_type": "code",
   "execution_count": null,
   "id": "c85d72c3",
   "metadata": {},
   "outputs": [],
   "source": []
  }
 ],
 "metadata": {
  "kernelspec": {
   "display_name": "Python 3",
   "language": "python",
   "name": "python3"
  },
  "language_info": {
   "codemirror_mode": {
    "name": "ipython",
    "version": 3
   },
   "file_extension": ".py",
   "mimetype": "text/x-python",
   "name": "python",
   "nbconvert_exporter": "python",
   "pygments_lexer": "ipython3",
   "version": "3.8.8"
  }
 },
 "nbformat": 4,
 "nbformat_minor": 5
}
