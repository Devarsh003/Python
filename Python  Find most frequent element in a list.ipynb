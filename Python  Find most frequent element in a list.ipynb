{
 "cells": [
  {
   "cell_type": "markdown",
   "id": "5c67cd5b",
   "metadata": {},
   "source": [
    "# Python | Find most frequent element in a list"
   ]
  },
  {
   "cell_type": "raw",
   "id": "2e5b4cc5",
   "metadata": {},
   "source": [
    "Input : [2, 1, 2, 2, 1, 3]\n",
    "Output : 2\n",
    "\n",
    "Input : ['Dog', 'Cat', 'Dog']\n",
    "Output : Dog"
   ]
  },
  {
   "cell_type": "code",
   "execution_count": 49,
   "id": "56ff1e5f",
   "metadata": {},
   "outputs": [],
   "source": [
    "Input = [3, 1, 4, 1, 5, 9, 2, 6, 5, 3, 5]"
   ]
  },
  {
   "cell_type": "code",
   "execution_count": 50,
   "id": "833f824e",
   "metadata": {},
   "outputs": [],
   "source": [
    "def frequentElement(Input):\n",
    "    c=[]\n",
    "    for i in Input:\n",
    "        c.append(Input.count(i))\n",
    "    c=c.index(max(c))\n",
    "    value=Input[c]\n",
    "    return value"
   ]
  },
  {
   "cell_type": "code",
   "execution_count": 51,
   "id": "0df86e01",
   "metadata": {},
   "outputs": [
    {
     "data": {
      "text/plain": [
       "5"
      ]
     },
     "execution_count": 51,
     "metadata": {},
     "output_type": "execute_result"
    }
   ],
   "source": [
    "frequentElement(Input)"
   ]
  },
  {
   "cell_type": "code",
   "execution_count": null,
   "id": "11367f67",
   "metadata": {},
   "outputs": [],
   "source": []
  }
 ],
 "metadata": {
  "kernelspec": {
   "display_name": "Python 3",
   "language": "python",
   "name": "python3"
  },
  "language_info": {
   "codemirror_mode": {
    "name": "ipython",
    "version": 3
   },
   "file_extension": ".py",
   "mimetype": "text/x-python",
   "name": "python",
   "nbconvert_exporter": "python",
   "pygments_lexer": "ipython3",
   "version": "3.8.8"
  }
 },
 "nbformat": 4,
 "nbformat_minor": 5
}
