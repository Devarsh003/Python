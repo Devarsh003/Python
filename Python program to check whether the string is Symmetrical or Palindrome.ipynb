{
 "cells": [
  {
   "cell_type": "raw",
   "id": "520a581b",
   "metadata": {},
   "source": [
    "Input: khokho\n",
    "Output: \n",
    "The entered string is symmetrical\n",
    "The entered string is not palindrome\n",
    "\n",
    "Input:amaama\n",
    "Output:\n",
    "The entered string is symmetrical\n",
    "The entered string is palindrome"
   ]
  },
  {
   "cell_type": "code",
   "execution_count": 14,
   "id": "d83de6d3",
   "metadata": {},
   "outputs": [],
   "source": [
    "x= 'khokho'"
   ]
  },
  {
   "cell_type": "code",
   "execution_count": 37,
   "id": "e83bc422",
   "metadata": {},
   "outputs": [],
   "source": [
    "def symmetrical(x):\n",
    "        y=len(x)//2\n",
    "        if(x[:y]==x[y:]):\n",
    "            print(\"symmetrical\")\n",
    "        else:\n",
    "            print('not symmetrical')\n",
    "def palindrome(x):\n",
    "    if(x==x[::-1]):\n",
    "        print('palindrome')\n",
    "    else:\n",
    "        print('not Palindrome')\n",
    "        \n",
    "def fun(x):\n",
    "    symmetrical(x)\n",
    "    palindrome(x)\n"
   ]
  },
  {
   "cell_type": "code",
   "execution_count": 38,
   "id": "04de7999",
   "metadata": {},
   "outputs": [
    {
     "name": "stdout",
     "output_type": "stream",
     "text": [
      "symmetrical\n",
      "not Palindrome\n"
     ]
    }
   ],
   "source": [
    "fun(x)\n",
    "# palindrome(x)\n",
    "# y=len(x)//2\n",
    "# x[3:]"
   ]
  },
  {
   "cell_type": "code",
   "execution_count": 39,
   "id": "d6eb4126",
   "metadata": {},
   "outputs": [
    {
     "name": "stdout",
     "output_type": "stream",
     "text": [
      "symmetrical\n",
      "palindrome\n"
     ]
    }
   ],
   "source": [
    "a='amaama'\n",
    "fun(a)"
   ]
  },
  {
   "cell_type": "code",
   "execution_count": 41,
   "id": "f0d1cfc8",
   "metadata": {},
   "outputs": [
    {
     "data": {
      "text/plain": [
       "<reversed at 0x29af4c07ac0>"
      ]
     },
     "execution_count": 41,
     "metadata": {},
     "output_type": "execute_result"
    }
   ],
   "source": []
  },
  {
   "cell_type": "code",
   "execution_count": null,
   "id": "08b2a882",
   "metadata": {},
   "outputs": [],
   "source": []
  }
 ],
 "metadata": {
  "kernelspec": {
   "display_name": "Python 3",
   "language": "python",
   "name": "python3"
  },
  "language_info": {
   "codemirror_mode": {
    "name": "ipython",
    "version": 3
   },
   "file_extension": ".py",
   "mimetype": "text/x-python",
   "name": "python",
   "nbconvert_exporter": "python",
   "pygments_lexer": "ipython3",
   "version": "3.8.8"
  }
 },
 "nbformat": 4,
 "nbformat_minor": 5
}
