{
 "cells": [
  {
   "cell_type": "markdown",
   "id": "6f2e536e",
   "metadata": {},
   "source": [
    "# Python program to interchange first and last elements in a list"
   ]
  },
  {
   "cell_type": "code",
   "execution_count": 12,
   "id": "caf185c9",
   "metadata": {},
   "outputs": [],
   "source": [
    "# input list\n",
    "a=[18,35,8,67,89,29]"
   ]
  },
  {
   "cell_type": "code",
   "execution_count": 13,
   "id": "66c717fb",
   "metadata": {},
   "outputs": [],
   "source": [
    "def swapList(list):\n",
    "    list[0],list[-1]=list[-1],list[0]\n",
    "    return list"
   ]
  },
  {
   "cell_type": "code",
   "execution_count": 14,
   "id": "f48e476e",
   "metadata": {},
   "outputs": [
    {
     "data": {
      "text/plain": [
       "[29, 35, 8, 67, 89, 18]"
      ]
     },
     "execution_count": 14,
     "metadata": {},
     "output_type": "execute_result"
    }
   ],
   "source": [
    "swapList(a)"
   ]
  },
  {
   "cell_type": "code",
   "execution_count": null,
   "id": "089f28bf",
   "metadata": {},
   "outputs": [],
   "source": []
  }
 ],
 "metadata": {
  "kernelspec": {
   "display_name": "Python 3",
   "language": "python",
   "name": "python3"
  },
  "language_info": {
   "codemirror_mode": {
    "name": "ipython",
    "version": 3
   },
   "file_extension": ".py",
   "mimetype": "text/x-python",
   "name": "python",
   "nbconvert_exporter": "python",
   "pygments_lexer": "ipython3",
   "version": "3.8.8"
  }
 },
 "nbformat": 4,
 "nbformat_minor": 5
}
