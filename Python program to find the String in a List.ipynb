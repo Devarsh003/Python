{
 "cells": [
  {
   "cell_type": "markdown",
   "id": "d996fc8a",
   "metadata": {},
   "source": [
    "# Python program to find the String in a List"
   ]
  },
  {
   "cell_type": "raw",
   "id": "8e88a77e",
   "metadata": {},
   "source": [
    "Input: l=[1, 1.0, 'have', 'a', 'geeky', 'day']; s='geeky'\n",
    "Output: True\n",
    "Explanation: geeky is present in the input list"
   ]
  },
  {
   "cell_type": "code",
   "execution_count": 18,
   "id": "2b1310db",
   "metadata": {},
   "outputs": [],
   "source": [
    "l=[1, 1.0, 'have', 'a', 'geeky', 'day']\n",
    "# assign string\n",
    "s = 'geeky'"
   ]
  },
  {
   "cell_type": "code",
   "execution_count": 17,
   "id": "937a761b",
   "metadata": {},
   "outputs": [
    {
     "name": "stdout",
     "output_type": "stream",
     "text": [
      "no\n"
     ]
    }
   ],
   "source": [
    "if s in l:\n",
    "    print('yes')\n",
    "else:\n",
    "    print('no')"
   ]
  },
  {
   "cell_type": "code",
   "execution_count": null,
   "id": "98b53c62",
   "metadata": {},
   "outputs": [],
   "source": []
  }
 ],
 "metadata": {
  "kernelspec": {
   "display_name": "Python 3",
   "language": "python",
   "name": "python3"
  },
  "language_info": {
   "codemirror_mode": {
    "name": "ipython",
    "version": 3
   },
   "file_extension": ".py",
   "mimetype": "text/x-python",
   "name": "python",
   "nbconvert_exporter": "python",
   "pygments_lexer": "ipython3",
   "version": "3.8.8"
  }
 },
 "nbformat": 4,
 "nbformat_minor": 5
}
