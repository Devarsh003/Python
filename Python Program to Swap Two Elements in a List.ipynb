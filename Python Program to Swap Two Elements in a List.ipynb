{
 "cells": [
  {
   "cell_type": "markdown",
   "id": "fcd46581",
   "metadata": {},
   "source": [
    "# Python Program to Swap Two Elements in a List"
   ]
  },
  {
   "cell_type": "raw",
   "id": "f907aaef",
   "metadata": {},
   "source": [
    "Input : List = [23, 65, 19, 90], pos1 = 1, pos2 = 3\n",
    "Output : [19, 65, 23, 90]\n",
    "\n",
    "Input : List = [1, 2, 3, 4, 5], pos1 = 2, pos2 = 5\n",
    "Output : [1, 5, 3, 4, 2]"
   ]
  },
  {
   "cell_type": "code",
   "execution_count": 1,
   "id": "26d736e2",
   "metadata": {},
   "outputs": [],
   "source": [
    "def swapPos(list,p1,p2):\n",
    "    list[p1-1],list[p2-1]=list[p2-1],list[p1-1]\n",
    "    return list"
   ]
  },
  {
   "cell_type": "code",
   "execution_count": 2,
   "id": "31e6c9c4",
   "metadata": {},
   "outputs": [
    {
     "data": {
      "text/plain": [
       "[19, 65, 23, 90]"
      ]
     },
     "execution_count": 2,
     "metadata": {},
     "output_type": "execute_result"
    }
   ],
   "source": [
    "a=[23,65,19,90]\n",
    "swapPos(a,1,3)"
   ]
  },
  {
   "cell_type": "code",
   "execution_count": null,
   "id": "6c57fdfc",
   "metadata": {},
   "outputs": [],
   "source": []
  }
 ],
 "metadata": {
  "kernelspec": {
   "display_name": "Python 3",
   "language": "python",
   "name": "python3"
  },
  "language_info": {
   "codemirror_mode": {
    "name": "ipython",
    "version": 3
   },
   "file_extension": ".py",
   "mimetype": "text/x-python",
   "name": "python",
   "nbconvert_exporter": "python",
   "pygments_lexer": "ipython3",
   "version": "3.8.8"
  }
 },
 "nbformat": 4,
 "nbformat_minor": 5
}
