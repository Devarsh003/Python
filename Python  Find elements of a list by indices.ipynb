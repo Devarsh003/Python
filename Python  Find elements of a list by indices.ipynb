{
 "cells": [
  {
   "cell_type": "markdown",
   "id": "19ae1557",
   "metadata": {},
   "source": [
    "# Python | Find elements of a list by indices"
   ]
  },
  {
   "cell_type": "raw",
   "id": "1fe98a5b",
   "metadata": {},
   "source": [
    "Input : lst1 = [10, 20, 30, 40, 50]\n",
    "        lst2 = [0, 2, 4]\n",
    "Output : [10, 30, 50]\n",
    "Explanation: \n",
    "Output elements at indices 0, 2 and 4 i.e 10, 30 and 50 respectively. \n",
    "\n",
    "Input : lst1 = ['Hello', 'geeks', 'for', 'geeks']\n",
    "        lst2 = [1, 2, 3]\n",
    "Output : ['geeks', 'for', 'geeks']"
   ]
  },
  {
   "cell_type": "code",
   "execution_count": 1,
   "id": "4ef506cf",
   "metadata": {},
   "outputs": [],
   "source": [
    "lst1 = [10, 20, 30, 40, 50]\n",
    "lst2 = [0, 2, 4]"
   ]
  },
  {
   "cell_type": "code",
   "execution_count": 7,
   "id": "c2a955eb",
   "metadata": {},
   "outputs": [],
   "source": [
    "def slice(lst1,lst2):\n",
    "    for i in lst2:\n",
    "        print(lst1[i],end=' ')\n",
    "    "
   ]
  },
  {
   "cell_type": "code",
   "execution_count": 8,
   "id": "4d55e540",
   "metadata": {},
   "outputs": [
    {
     "name": "stdout",
     "output_type": "stream",
     "text": [
      "10 30 50 "
     ]
    }
   ],
   "source": [
    "slice(lst1,lst2)"
   ]
  },
  {
   "cell_type": "markdown",
   "id": "3d110799",
   "metadata": {},
   "source": [
    "Using numpy"
   ]
  },
  {
   "cell_type": "code",
   "execution_count": 10,
   "id": "f1a4856c",
   "metadata": {},
   "outputs": [],
   "source": [
    "import numpy as np\n",
    "def numpy(lst1,lst2):\n",
    "    list= np.array(lst1)[lst2]\n",
    "    return list"
   ]
  },
  {
   "cell_type": "code",
   "execution_count": 11,
   "id": "43404263",
   "metadata": {},
   "outputs": [
    {
     "data": {
      "text/plain": [
       "array([10, 30, 50])"
      ]
     },
     "execution_count": 11,
     "metadata": {},
     "output_type": "execute_result"
    }
   ],
   "source": [
    "numpy(lst1,lst2)"
   ]
  },
  {
   "cell_type": "code",
   "execution_count": null,
   "id": "652b8621",
   "metadata": {},
   "outputs": [],
   "source": []
  }
 ],
 "metadata": {
  "kernelspec": {
   "display_name": "Python 3",
   "language": "python",
   "name": "python3"
  },
  "language_info": {
   "codemirror_mode": {
    "name": "ipython",
    "version": 3
   },
   "file_extension": ".py",
   "mimetype": "text/x-python",
   "name": "python",
   "nbconvert_exporter": "python",
   "pygments_lexer": "ipython3",
   "version": "3.8.8"
  }
 },
 "nbformat": 4,
 "nbformat_minor": 5
}
