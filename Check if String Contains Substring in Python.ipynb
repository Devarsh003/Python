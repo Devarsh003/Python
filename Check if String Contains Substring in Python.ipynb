{
 "cells": [
  {
   "cell_type": "raw",
   "id": "e5286ff2",
   "metadata": {},
   "source": [
    "Input: Substring = \"geeks\" \n",
    "            String=\"geeks for geeks\"\n",
    "Output: yes\n",
    "Input: Substring = \"geek\"\n",
    "           String=\"geeks for geeks\"\n",
    "Output: yes\n",
    "Explanation: In this, we are checking if the substring is present in a given string or not."
   ]
  },
  {
   "cell_type": "code",
   "execution_count": 14,
   "id": "eb6f2688",
   "metadata": {},
   "outputs": [],
   "source": [
    "x = \"geeks for geeks\"\n",
    "y = 'geek'"
   ]
  },
  {
   "cell_type": "code",
   "execution_count": 15,
   "id": "21cab25c",
   "metadata": {},
   "outputs": [],
   "source": [
    "def fun(x,y):\n",
    "    x = x.split(\" \")\n",
    "    for i in x:\n",
    "        if(i==y):\n",
    "            return 1\n",
    "        else:\n",
    "            return 0\n",
    "    "
   ]
  },
  {
   "cell_type": "code",
   "execution_count": 16,
   "id": "640f20d9",
   "metadata": {},
   "outputs": [
    {
     "name": "stdout",
     "output_type": "stream",
     "text": [
      "no\n"
     ]
    }
   ],
   "source": [
    "z=fun(x,y)\n",
    "if(z):\n",
    "    print('yes')\n",
    "else:\n",
    "    print('no')"
   ]
  },
  {
   "cell_type": "code",
   "execution_count": null,
   "id": "011a792c",
   "metadata": {},
   "outputs": [],
   "source": []
  }
 ],
 "metadata": {
  "kernelspec": {
   "display_name": "Python 3",
   "language": "python",
   "name": "python3"
  },
  "language_info": {
   "codemirror_mode": {
    "name": "ipython",
    "version": 3
   },
   "file_extension": ".py",
   "mimetype": "text/x-python",
   "name": "python",
   "nbconvert_exporter": "python",
   "pygments_lexer": "ipython3",
   "version": "3.8.8"
  }
 },
 "nbformat": 4,
 "nbformat_minor": 5
}
