{
 "cells": [
  {
   "cell_type": "raw",
   "id": "e9b1b24d",
   "metadata": {},
   "source": [
    "Input: 'Geeks123For123Geeks'\n",
    "Output: GeeksForGeeks\n",
    "Explanation: In This, we have removed the '123' character from a string."
   ]
  },
  {
   "cell_type": "code",
   "execution_count": 1,
   "id": "9b17b359",
   "metadata": {},
   "outputs": [
    {
     "name": "stdout",
     "output_type": "stream",
     "text": [
      "enter any string:geek123for4geeks8ford9one\n"
     ]
    }
   ],
   "source": [
    "Input = input(\"enter any string:\")"
   ]
  },
  {
   "cell_type": "code",
   "execution_count": 6,
   "id": "44c81502",
   "metadata": {},
   "outputs": [],
   "source": [
    "def fun(x):\n",
    "    string=''\n",
    "    for char in x:\n",
    "        if not char.isdigit():\n",
    "            string+=char\n",
    "    return string"
   ]
  },
  {
   "cell_type": "code",
   "execution_count": 7,
   "id": "3f579b32",
   "metadata": {},
   "outputs": [
    {
     "data": {
      "text/plain": [
       "'geekforgeeksfordone'"
      ]
     },
     "execution_count": 7,
     "metadata": {},
     "output_type": "execute_result"
    }
   ],
   "source": [
    "fun(Input)"
   ]
  },
  {
   "cell_type": "code",
   "execution_count": null,
   "id": "c8f799f4",
   "metadata": {},
   "outputs": [],
   "source": []
  }
 ],
 "metadata": {
  "kernelspec": {
   "display_name": "Python 3",
   "language": "python",
   "name": "python3"
  },
  "language_info": {
   "codemirror_mode": {
    "name": "ipython",
    "version": 3
   },
   "file_extension": ".py",
   "mimetype": "text/x-python",
   "name": "python",
   "nbconvert_exporter": "python",
   "pygments_lexer": "ipython3",
   "version": "3.8.8"
  }
 },
 "nbformat": 4,
 "nbformat_minor": 5
}
