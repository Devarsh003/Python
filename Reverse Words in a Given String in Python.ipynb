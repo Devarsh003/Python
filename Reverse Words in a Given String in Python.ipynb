{
 "cells": [
  {
   "cell_type": "raw",
   "id": "cdfa11ab",
   "metadata": {},
   "source": [
    "Input : str =\" geeks quiz practice code\"\n",
    "Output : str = code practice quiz geeks  \n",
    "Input : str = \"my name is laxmi\"\n",
    "output : str= laxmi is name my"
   ]
  },
  {
   "cell_type": "code",
   "execution_count": 17,
   "id": "c177e792",
   "metadata": {},
   "outputs": [],
   "source": [
    "x=\"geeks quiz practice code\"\n",
    "# x=x.split(\" \")"
   ]
  },
  {
   "cell_type": "code",
   "execution_count": 18,
   "id": "9ec063a2",
   "metadata": {},
   "outputs": [],
   "source": [
    "# x[::-1]"
   ]
  },
  {
   "cell_type": "code",
   "execution_count": 26,
   "id": "b86a52c3",
   "metadata": {},
   "outputs": [],
   "source": [
    "def rev(x):\n",
    "    x = x.split(\" \")\n",
    "    return \" \".join(x[::-1])"
   ]
  },
  {
   "cell_type": "code",
   "execution_count": 27,
   "id": "7168a9ce",
   "metadata": {},
   "outputs": [
    {
     "data": {
      "text/plain": [
       "'code practice quiz geeks'"
      ]
     },
     "execution_count": 27,
     "metadata": {},
     "output_type": "execute_result"
    }
   ],
   "source": [
    "rev(x)"
   ]
  },
  {
   "cell_type": "code",
   "execution_count": null,
   "id": "d6e15aab",
   "metadata": {},
   "outputs": [],
   "source": []
  }
 ],
 "metadata": {
  "kernelspec": {
   "display_name": "Python 3",
   "language": "python",
   "name": "python3"
  },
  "language_info": {
   "codemirror_mode": {
    "name": "ipython",
    "version": 3
   },
   "file_extension": ".py",
   "mimetype": "text/x-python",
   "name": "python",
   "nbconvert_exporter": "python",
   "pygments_lexer": "ipython3",
   "version": "3.8.8"
  }
 },
 "nbformat": 4,
 "nbformat_minor": 5
}
