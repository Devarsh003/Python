{
 "cells": [
  {
   "cell_type": "raw",
   "id": "d1c40ca0",
   "metadata": {},
   "source": [
    "Input : test_str = 'Gfg is best' \n",
    "Output : {'Gfg': 1, 'is': 1, 'best': 1}"
   ]
  },
  {
   "cell_type": "raw",
   "id": "830d44fe",
   "metadata": {},
   "source": [
    "Input : test_str = 'Gfg Gfg Gfg' \n",
    "Output : {'Gfg': 3}"
   ]
  },
  {
   "cell_type": "code",
   "execution_count": 1,
   "id": "03549ddc",
   "metadata": {},
   "outputs": [],
   "source": [
    "x='Gfg Gfg Gfg'\n",
    "x = x.split(\" \")"
   ]
  },
  {
   "cell_type": "code",
   "execution_count": 125,
   "id": "132c3576",
   "metadata": {},
   "outputs": [],
   "source": [
    "x='Gfg is best . Geeks are good and Geeks like Gfg'\n",
    "# x=x.split(\" \")\n",
    "# y=list(set(x))"
   ]
  },
  {
   "cell_type": "code",
   "execution_count": 131,
   "id": "576d1ab3",
   "metadata": {},
   "outputs": [],
   "source": [
    "# def frequency(x):\n",
    "#     x = x.split(\" \")\n",
    "#     y=list(set(x))\n",
    "#     z=1\n",
    "#     for i in range(y):\n",
    "#         for j in range(x):\n",
    "#             if(i==j):\n",
    "#                 z=z+1\n",
    "#         print(y[i],\":\",z,end=',')\n",
    "\n",
    "def frequency(x):\n",
    "    y=list(set(x.split(\" \")))\n",
    "# x = x.split()\n",
    "    x = x.split(\" \")\n",
    "    for i in range(len(y)):\n",
    "        z=0\n",
    "        for j in range(len(x)):\n",
    "            if(y[i]==x[j]):\n",
    "                z=z+1\n",
    "        print(y[i],\":\",z)\n",
    "    "
   ]
  },
  {
   "cell_type": "code",
   "execution_count": 132,
   "id": "fea6609f",
   "metadata": {},
   "outputs": [
    {
     "name": "stdout",
     "output_type": "stream",
     "text": [
      "is : 1\n",
      ". : 1\n",
      "are : 1\n",
      "Geeks : 2\n",
      "like : 1\n",
      "and : 1\n",
      "good : 1\n",
      "best : 1\n",
      "Gfg : 2\n"
     ]
    }
   ],
   "source": [
    "frequency(x)"
   ]
  },
  {
   "cell_type": "markdown",
   "id": "d8b2a68f",
   "metadata": {},
   "source": [
    "# second Method"
   ]
  },
  {
   "cell_type": "code",
   "execution_count": 133,
   "id": "d0b9848e",
   "metadata": {},
   "outputs": [],
   "source": [
    "test_str = 'Gfg is best . Geeks are good and Geeks like Gfg'\n",
    "\n",
    "res = {key: test_str.count(key) for key in test_str.split()}"
   ]
  },
  {
   "cell_type": "code",
   "execution_count": 134,
   "id": "ffb07e80",
   "metadata": {},
   "outputs": [
    {
     "data": {
      "text/plain": [
       "{'Gfg': 2,\n",
       " 'is': 1,\n",
       " 'best': 1,\n",
       " '.': 1,\n",
       " 'Geeks': 2,\n",
       " 'are': 1,\n",
       " 'good': 1,\n",
       " 'and': 1,\n",
       " 'like': 1}"
      ]
     },
     "execution_count": 134,
     "metadata": {},
     "output_type": "execute_result"
    }
   ],
   "source": [
    "res"
   ]
  },
  {
   "cell_type": "code",
   "execution_count": null,
   "id": "941026be",
   "metadata": {},
   "outputs": [],
   "source": []
  }
 ],
 "metadata": {
  "kernelspec": {
   "display_name": "Python 3",
   "language": "python",
   "name": "python3"
  },
  "language_info": {
   "codemirror_mode": {
    "name": "ipython",
    "version": 3
   },
   "file_extension": ".py",
   "mimetype": "text/x-python",
   "name": "python",
   "nbconvert_exporter": "python",
   "pygments_lexer": "ipython3",
   "version": "3.8.8"
  }
 },
 "nbformat": 4,
 "nbformat_minor": 5
}
