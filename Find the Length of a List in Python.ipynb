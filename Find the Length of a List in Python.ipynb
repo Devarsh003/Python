{
 "cells": [
  {
   "cell_type": "markdown",
   "id": "a430024a",
   "metadata": {},
   "source": [
    "# Find the Length of a List in Python"
   ]
  },
  {
   "cell_type": "raw",
   "id": "604a8bb4",
   "metadata": {},
   "source": [
    "Using len() function\n",
    "Using Naive Method\n",
    "Using length_hint()\n",
    "Using sum() method\n",
    "Using a list comprehension\n",
    "Using recursion\n",
    "Using enumerate function\n",
    "Using Collections Module"
   ]
  },
  {
   "cell_type": "code",
   "execution_count": 2,
   "id": "64f190b8",
   "metadata": {},
   "outputs": [],
   "source": [
    "li = [10, 20, 30]"
   ]
  },
  {
   "cell_type": "markdown",
   "id": "8f6fec6d",
   "metadata": {},
   "source": [
    "Using len() function"
   ]
  },
  {
   "cell_type": "code",
   "execution_count": 3,
   "id": "401ce96a",
   "metadata": {},
   "outputs": [
    {
     "data": {
      "text/plain": [
       "3"
      ]
     },
     "execution_count": 3,
     "metadata": {},
     "output_type": "execute_result"
    }
   ],
   "source": [
    "len(li)"
   ]
  },
  {
   "cell_type": "markdown",
   "id": "62b1dd81",
   "metadata": {},
   "source": [
    "Using Naive Method"
   ]
  },
  {
   "cell_type": "code",
   "execution_count": 9,
   "id": "c405a0b1",
   "metadata": {},
   "outputs": [],
   "source": [
    "def length(li):\n",
    "    c=0\n",
    "    for i in li:\n",
    "        c+=1\n",
    "    return c"
   ]
  },
  {
   "cell_type": "code",
   "execution_count": 10,
   "id": "79dbb170",
   "metadata": {},
   "outputs": [
    {
     "data": {
      "text/plain": [
       "3"
      ]
     },
     "execution_count": 10,
     "metadata": {},
     "output_type": "execute_result"
    }
   ],
   "source": [
    "length(li)"
   ]
  },
  {
   "cell_type": "raw",
   "id": "14417395",
   "metadata": {},
   "source": [
    "Using sum() method\n",
    "Using a list comprehension"
   ]
  },
  {
   "cell_type": "code",
   "execution_count": 12,
   "id": "78bfe362",
   "metadata": {},
   "outputs": [
    {
     "name": "stdout",
     "output_type": "stream",
     "text": [
      "3\n"
     ]
    }
   ],
   "source": [
    "lenght=sum(1 for i in li)\n",
    "print(lenght)"
   ]
  },
  {
   "cell_type": "code",
   "execution_count": null,
   "id": "3f00bf45",
   "metadata": {},
   "outputs": [],
   "source": []
  }
 ],
 "metadata": {
  "kernelspec": {
   "display_name": "Python 3",
   "language": "python",
   "name": "python3"
  },
  "language_info": {
   "codemirror_mode": {
    "name": "ipython",
    "version": 3
   },
   "file_extension": ".py",
   "mimetype": "text/x-python",
   "name": "python",
   "nbconvert_exporter": "python",
   "pygments_lexer": "ipython3",
   "version": "3.8.8"
  }
 },
 "nbformat": 4,
 "nbformat_minor": 5
}
