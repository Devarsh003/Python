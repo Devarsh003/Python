{
 "cells": [
  {
   "cell_type": "code",
   "execution_count": 26,
   "id": "34098e1f",
   "metadata": {},
   "outputs": [
    {
     "data": {
      "text/plain": [
       "[2, 7, 4, 6, 4, 0]"
      ]
     },
     "execution_count": 26,
     "metadata": {},
     "output_type": "execute_result"
    }
   ],
   "source": [
    "x='0010010000000100001000000100001100'\n",
    "z=[]\n",
    "for i in range(len(x)):\n",
    "    if(x[i]=='1'):\n",
    "        for j in range(i+1,len(x)):\n",
    "            if(x[j]=='1'):\n",
    "                f=j-i-1\n",
    "                z.append(f)\n",
    "                i=j\n",
    "                break\n",
    "z"
   ]
  },
  {
   "cell_type": "code",
   "execution_count": 5,
   "id": "04bd9e62",
   "metadata": {},
   "outputs": [
    {
     "data": {
      "text/plain": [
       "[]"
      ]
     },
     "execution_count": 5,
     "metadata": {},
     "output_type": "execute_result"
    }
   ],
   "source": [
    "z"
   ]
  },
  {
   "cell_type": "code",
   "execution_count": 22,
   "id": "05549ea2",
   "metadata": {},
   "outputs": [
    {
     "name": "stdout",
     "output_type": "stream",
     "text": [
      "5\n",
      "\n",
      "8\n",
      "\n",
      "\n"
     ]
    }
   ],
   "source": [
    "for i in range(len(x)):\n",
    "    if(x[i]==\"1\"):\n",
    "        for j in range(i+1,len(x)):\n",
    "            if(x[j]=='1'):\n",
    "                \n",
    "                print(j)\n",
    "                break\n",
    "        print()"
   ]
  },
  {
   "cell_type": "code",
   "execution_count": null,
   "id": "ef18ba38",
   "metadata": {},
   "outputs": [],
   "source": []
  }
 ],
 "metadata": {
  "kernelspec": {
   "display_name": "Python 3",
   "language": "python",
   "name": "python3"
  },
  "language_info": {
   "codemirror_mode": {
    "name": "ipython",
    "version": 3
   },
   "file_extension": ".py",
   "mimetype": "text/x-python",
   "name": "python",
   "nbconvert_exporter": "python",
   "pygments_lexer": "ipython3",
   "version": "3.8.8"
  }
 },
 "nbformat": 4,
 "nbformat_minor": 5
}
